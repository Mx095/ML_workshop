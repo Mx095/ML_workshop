{
  "nbformat": 4,
  "nbformat_minor": 0,
  "metadata": {
    "colab": {
      "provenance": [],
      "authorship_tag": "ABX9TyP2klGZn0pzlnOnH9ZTSnbC",
      "include_colab_link": true
    },
    "kernelspec": {
      "name": "python3",
      "display_name": "Python 3"
    },
    "language_info": {
      "name": "python"
    }
  },
  "cells": [
    {
      "cell_type": "markdown",
      "metadata": {
        "id": "view-in-github",
        "colab_type": "text"
      },
      "source": [
        "<a href=\"https://colab.research.google.com/github/Mx095/ML_workshop/blob/main/ML_Assignment_01.ipynb\" target=\"_parent\"><img src=\"https://colab.research.google.com/assets/colab-badge.svg\" alt=\"Open In Colab\"/></a>"
      ]
    },
    {
      "cell_type": "markdown",
      "source": [
        "1. Perform arithmetic operations on NumPy arrays."
      ],
      "metadata": {
        "id": "-NNt9OrWobBC"
      }
    },
    {
      "cell_type": "code",
      "source": [
        "import numpy as np\n",
        "a=np.array([1,2,3])\n",
        "b=np.array([4,5,6])\n",
        "print(\"addition of array:\",a+b)\n",
        "print(\"subtraction of array:\",a-b)\n",
        "print(\"multiplication of array:\",a*b)\n",
        "print(\"division of array:\",a/b)"
      ],
      "metadata": {
        "colab": {
          "base_uri": "https://localhost:8080/"
        },
        "id": "1FMTZ5f1oe5L",
        "outputId": "1025bd83-2bc0-4c71-b55a-29351f6120f8"
      },
      "execution_count": 1,
      "outputs": [
        {
          "output_type": "stream",
          "name": "stdout",
          "text": [
            "addition of array: [5 7 9]\n",
            "subtraction of array: [-3 -3 -3]\n",
            "multiplication of array: [ 4 10 18]\n",
            "division of array: [0.25 0.4  0.5 ]\n"
          ]
        }
      ]
    },
    {
      "cell_type": "markdown",
      "source": [
        "2. Write a script to compute the mean and standard deviation of a NumPy array.\n"
      ],
      "metadata": {
        "id": "V-NRXHhJovz3"
      }
    },
    {
      "cell_type": "code",
      "source": [
        "a=np.array([1,2,3,4,5])\n",
        "print(\"mean of array: \",np.mean(a))\n",
        "print(\"standard deviation of array: \",np.std(a))"
      ],
      "metadata": {
        "colab": {
          "base_uri": "https://localhost:8080/"
        },
        "id": "s3rjrWEdozXo",
        "outputId": "367b583d-9a38-4635-f6a0-1253c914ff7d"
      },
      "execution_count": 2,
      "outputs": [
        {
          "output_type": "stream",
          "name": "stdout",
          "text": [
            "mean of array:  3.0\n",
            "standard deviation of array:  1.4142135623730951\n"
          ]
        }
      ]
    },
    {
      "cell_type": "markdown",
      "source": [
        "3. Create a NumPy array of integers from 10 to 50 with a step size of 5.\n"
      ],
      "metadata": {
        "id": "ca0Df4lro51Y"
      }
    },
    {
      "cell_type": "code",
      "source": [
        "a=np.arange(10,50,5)\n",
        "print(a)"
      ],
      "metadata": {
        "colab": {
          "base_uri": "https://localhost:8080/"
        },
        "id": "6W_MFKpSo-vY",
        "outputId": "dcf4631e-f566-4e66-f9f9-afee007158ec"
      },
      "execution_count": 3,
      "outputs": [
        {
          "output_type": "stream",
          "name": "stdout",
          "text": [
            "[10 15 20 25 30 35 40 45]\n"
          ]
        }
      ]
    },
    {
      "cell_type": "markdown",
      "source": [
        "4. Reshape the array into a 2x4 matrix."
      ],
      "metadata": {
        "id": "wmEtrb5QpCv0"
      }
    },
    {
      "cell_type": "code",
      "source": [
        "matrix=a.reshape(2,4)\n",
        "print(matrix)"
      ],
      "metadata": {
        "colab": {
          "base_uri": "https://localhost:8080/"
        },
        "id": "f0iNZ8WSpHPY",
        "outputId": "b3f91983-6e26-4e06-e1ec-a69489028d66"
      },
      "execution_count": 4,
      "outputs": [
        {
          "output_type": "stream",
          "name": "stdout",
          "text": [
            "[[10 15 20 25]\n",
            " [30 35 40 45]]\n"
          ]
        }
      ]
    },
    {
      "cell_type": "markdown",
      "source": [
        "5. Given the array arr = np.array([[1, 2, 3], [4, 5, 6], [7, 8, 9]]):\n",
        "• Extract the sub-matrix containing the last two rows and first two columns.\n",
        "• Replace all elements greater than 4 with 0."
      ],
      "metadata": {
        "id": "W6sHso9UpTX5"
      }
    },
    {
      "cell_type": "code",
      "source": [
        "a=np.array([[1,2,3],[4,5,6],[7,8,9]])\n",
        "sub_matrix=a[1:,:2]\n",
        "print(sub_matrix)\n",
        "a[a>4]=0\n",
        "print(a)"
      ],
      "metadata": {
        "colab": {
          "base_uri": "https://localhost:8080/"
        },
        "id": "q-3eDa1wp928",
        "outputId": "d3f03c6e-1b0a-4d7b-ca43-d73b484632d3"
      },
      "execution_count": 5,
      "outputs": [
        {
          "output_type": "stream",
          "name": "stdout",
          "text": [
            "[[4 5]\n",
            " [7 8]]\n",
            "[[1 2 3]\n",
            " [4 0 0]\n",
            " [0 0 0]]\n"
          ]
        }
      ]
    },
    {
      "cell_type": "markdown",
      "source": [
        "6. Create two 1D arrays:\n",
        "• a = np.array([1, 2, 3])\n",
        "• b = np.array([4, 5, 6])\n",
        "• Perform element-wise addition, multiplication, and division"
      ],
      "metadata": {
        "id": "TBqjPrY-qDuC"
      }
    },
    {
      "cell_type": "code",
      "source": [
        "a=np.array([1,2,3])\n",
        "b=np.array([4,5,6])\n",
        "print(\"addition of array:\",a+b)\n",
        "print(\"multiplication of array:\",a*b)\n",
        "print(\"division of array:\",a/b)"
      ],
      "metadata": {
        "colab": {
          "base_uri": "https://localhost:8080/"
        },
        "id": "tE9tRv-ZqKNO",
        "outputId": "47a49c8e-f1f4-46d7-bb9d-d301f0f65d44"
      },
      "execution_count": 6,
      "outputs": [
        {
          "output_type": "stream",
          "name": "stdout",
          "text": [
            "addition of array: [5 7 9]\n",
            "multiplication of array: [ 4 10 18]\n",
            "division of array: [0.25 0.4  0.5 ]\n"
          ]
        }
      ]
    },
    {
      "cell_type": "markdown",
      "source": [
        "7. Create a random NumPy array of size (4, 4). Compute:\n",
        "• Mean of each column.\n",
        "• Maximum value of the entire array.\n",
        "• Sum of all elements.\n"
      ],
      "metadata": {
        "id": "euoSSJ1PqTOK"
      }
    },
    {
      "cell_type": "code",
      "source": [
        "a=np.random.rand(4,4)\n",
        "print(\"mean of each column: \",np.mean(a,axis=0))\n",
        "print(\"maximum value of the entire array: \",np.max(a))"
      ],
      "metadata": {
        "colab": {
          "base_uri": "https://localhost:8080/"
        },
        "id": "osyhWU4VqZUG",
        "outputId": "450eb483-5ee4-4f5e-a97d-a2098cd59f49"
      },
      "execution_count": 7,
      "outputs": [
        {
          "output_type": "stream",
          "name": "stdout",
          "text": [
            "mean of each column:  [0.61519538 0.56028012 0.59236587 0.58356864]\n",
            "maximum value of the entire array:  0.9727450727781607\n"
          ]
        }
      ]
    },
    {
      "cell_type": "markdown",
      "source": [
        "8. Given the array arr = np.array([1, 2, 3, 4]), add 10 to each element and multiply\n",
        "the result by 2."
      ],
      "metadata": {
        "id": "27Y42wt1qd_P"
      }
    },
    {
      "cell_type": "code",
      "source": [
        "a= np.array([1, 2, 3, 4])\n",
        "result = (a+ 10) * 2\n",
        "print(result)"
      ],
      "metadata": {
        "colab": {
          "base_uri": "https://localhost:8080/"
        },
        "id": "0tnXf_oaqifY",
        "outputId": "8c240e5e-3227-478d-f3b6-3753ca0b9fdb"
      },
      "execution_count": 8,
      "outputs": [
        {
          "output_type": "stream",
          "name": "stdout",
          "text": [
            "[22 24 26 28]\n"
          ]
        }
      ]
    },
    {
      "cell_type": "markdown",
      "source": [
        "9. Perform advanced slicing and indexing on a 3D array.\n",
        "Create a 3D NumPy array arr of shape (3, 4, 5) with random integers ranging from\n",
        "1 to 100. Perform the following:\n",
        "• Extract the second \"layer\" (i.e., the second 2D array) in the first dimension.\n",
        "• Extract the first two rows and the last three columns from each \"layer.\"\n",
        "• Replace all elements divisible by 3 with -1"
      ],
      "metadata": {
        "id": "szFFTFJ5qmCT"
      }
    },
    {
      "cell_type": "code",
      "source": [
        "a=np.random.randint(1,101,size=(3,4,5))\n",
        "print(a)\n",
        "print(\"second layer\",a[1])\n",
        "print(\"first two rows and last three coloums\",a[:,:2,-3:])\n",
        "a[a%3==0]=-1\n",
        "print(a)"
      ],
      "metadata": {
        "colab": {
          "base_uri": "https://localhost:8080/"
        },
        "id": "30vYjts8qp-M",
        "outputId": "0b7c5dcc-1f28-428e-d654-47fa953ec20e"
      },
      "execution_count": 9,
      "outputs": [
        {
          "output_type": "stream",
          "name": "stdout",
          "text": [
            "[[[ 87  93  86  24   4]\n",
            "  [ 37  37   6  12  41]\n",
            "  [  2  53  18  75  64]\n",
            "  [  5  29  58  44   3]]\n",
            "\n",
            " [[ 56   3  88  67  32]\n",
            "  [ 22  13  24  74  48]\n",
            "  [  9  82  94   4 100]\n",
            "  [ 88  51  51  42  43]]\n",
            "\n",
            " [[ 77  75  92  60  84]\n",
            "  [ 70  97  26  54  49]\n",
            "  [ 82   5  92  61  31]\n",
            "  [ 69  77  57  59  95]]]\n",
            "second layer [[ 56   3  88  67  32]\n",
            " [ 22  13  24  74  48]\n",
            " [  9  82  94   4 100]\n",
            " [ 88  51  51  42  43]]\n",
            "first two rows and last three coloums [[[86 24  4]\n",
            "  [ 6 12 41]]\n",
            "\n",
            " [[88 67 32]\n",
            "  [24 74 48]]\n",
            "\n",
            " [[92 60 84]\n",
            "  [26 54 49]]]\n",
            "[[[ -1  -1  86  -1   4]\n",
            "  [ 37  37  -1  -1  41]\n",
            "  [  2  53  -1  -1  64]\n",
            "  [  5  29  58  44  -1]]\n",
            "\n",
            " [[ 56  -1  88  67  32]\n",
            "  [ 22  13  -1  74  -1]\n",
            "  [ -1  82  94   4 100]\n",
            "  [ 88  -1  -1  -1  43]]\n",
            "\n",
            " [[ 77  -1  92  -1  -1]\n",
            "  [ 70  97  26  -1  49]\n",
            "  [ 82   5  92  61  31]\n",
            "  [ -1  77  -1  59  95]]]\n"
          ]
        }
      ]
    },
    {
      "cell_type": "markdown",
      "source": [
        "10. Work with broadcasting and advanced operations in NumPy.\n",
        " Create a NumPy array arr of shape (3, 3) with random integers between\n",
        " 1 and 20. Perform the following:\n",
        "• Subtract the mean of each row from its respective elements (row-wise\n",
        "normalization).\n",
        "• Create a new array by squaring all the elements in arr.\n",
        "• Find the indices of the top 3 maximum values in the entire array"
      ],
      "metadata": {
        "id": "ggsYH8bJquVU"
      }
    },
    {
      "cell_type": "code",
      "source": [
        "a=np.random.randint(1,21,size=(3,3))\n",
        "print(a)\n",
        "print(\"row-wise normalisation:\",a-a.mean(axis=1,keepdims=True))\n",
        "print(\"new array:\",np.square(a))\n",
        "print(\"top 3 maximum values:\",np.argsort(a.flatten())[-3:])"
      ],
      "metadata": {
        "colab": {
          "base_uri": "https://localhost:8080/"
        },
        "id": "kDQPAw95qx3f",
        "outputId": "9d8c5372-0961-40d2-f0bd-35e8b1eb8288"
      },
      "execution_count": 10,
      "outputs": [
        {
          "output_type": "stream",
          "name": "stdout",
          "text": [
            "[[ 1 18 17]\n",
            " [ 8  4  1]\n",
            " [18 20 13]]\n",
            "row-wise normalisation: [[-11.           6.           5.        ]\n",
            " [  3.66666667  -0.33333333  -3.33333333]\n",
            " [  1.           3.          -4.        ]]\n",
            "new array: [[  1 324 289]\n",
            " [ 64  16   1]\n",
            " [324 400 169]]\n",
            "top 3 maximum values: [1 6 7]\n"
          ]
        }
      ]
    }
  ]
}